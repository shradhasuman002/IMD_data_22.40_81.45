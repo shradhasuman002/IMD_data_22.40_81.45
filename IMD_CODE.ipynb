{
  "cells": [
    {
      "cell_type": "code",
      "execution_count": 2,
      "metadata": {
        "colab": {
          "base_uri": "https://localhost:8080/"
        },
        "id": "Pr8JCsO4qrUt",
        "outputId": "a673573a-6902-467a-90e6-12e0e1772076"
      },
      "outputs": [
        {
          "name": "stdout",
          "output_type": "stream",
          "text": [
            "Mounted at /content/drive\n"
          ]
        }
      ],
      "source": [
        "from google.colab import drive\n",
        "drive.mount('/content/drive')"
      ]
    },
    {
      "cell_type": "code",
      "execution_count": 3,
      "metadata": {
        "colab": {
          "base_uri": "https://localhost:8080/"
        },
        "id": "cL-wMU6KfgGI",
        "outputId": "be7b4e65-bc18-4f1d-8f54-1e0362affd65"
      },
      "outputs": [
        {
          "name": "stdout",
          "output_type": "stream",
          "text": [
            "Collecting imdlib\n",
            "  Downloading imdlib-0.1.20-py3-none-any.whl (21 kB)\n",
            "Requirement already satisfied: matplotlib in /usr/local/lib/python3.10/dist-packages (from imdlib) (3.7.1)\n",
            "Requirement already satisfied: numpy in /usr/local/lib/python3.10/dist-packages (from imdlib) (1.25.2)\n",
            "Requirement already satisfied: pandas in /usr/local/lib/python3.10/dist-packages (from imdlib) (2.0.3)\n",
            "Requirement already satisfied: six in /usr/local/lib/python3.10/dist-packages (from imdlib) (1.16.0)\n",
            "Requirement already satisfied: python-dateutil in /usr/local/lib/python3.10/dist-packages (from imdlib) (2.8.2)\n",
            "Requirement already satisfied: pytz in /usr/local/lib/python3.10/dist-packages (from imdlib) (2023.4)\n",
            "Requirement already satisfied: urllib3 in /usr/local/lib/python3.10/dist-packages (from imdlib) (2.0.7)\n",
            "Requirement already satisfied: scipy in /usr/local/lib/python3.10/dist-packages (from imdlib) (1.11.4)\n",
            "Requirement already satisfied: xarray in /usr/local/lib/python3.10/dist-packages (from imdlib) (2023.7.0)\n",
            "Requirement already satisfied: requests in /usr/local/lib/python3.10/dist-packages (from imdlib) (2.31.0)\n",
            "Requirement already satisfied: contourpy>=1.0.1 in /usr/local/lib/python3.10/dist-packages (from matplotlib->imdlib) (1.2.1)\n",
            "Requirement already satisfied: cycler>=0.10 in /usr/local/lib/python3.10/dist-packages (from matplotlib->imdlib) (0.12.1)\n",
            "Requirement already satisfied: fonttools>=4.22.0 in /usr/local/lib/python3.10/dist-packages (from matplotlib->imdlib) (4.51.0)\n",
            "Requirement already satisfied: kiwisolver>=1.0.1 in /usr/local/lib/python3.10/dist-packages (from matplotlib->imdlib) (1.4.5)\n",
            "Requirement already satisfied: packaging>=20.0 in /usr/local/lib/python3.10/dist-packages (from matplotlib->imdlib) (24.0)\n",
            "Requirement already satisfied: pillow>=6.2.0 in /usr/local/lib/python3.10/dist-packages (from matplotlib->imdlib) (9.4.0)\n",
            "Requirement already satisfied: pyparsing>=2.3.1 in /usr/local/lib/python3.10/dist-packages (from matplotlib->imdlib) (3.1.2)\n",
            "Requirement already satisfied: tzdata>=2022.1 in /usr/local/lib/python3.10/dist-packages (from pandas->imdlib) (2024.1)\n",
            "Requirement already satisfied: charset-normalizer<4,>=2 in /usr/local/lib/python3.10/dist-packages (from requests->imdlib) (3.3.2)\n",
            "Requirement already satisfied: idna<4,>=2.5 in /usr/local/lib/python3.10/dist-packages (from requests->imdlib) (3.7)\n",
            "Requirement already satisfied: certifi>=2017.4.17 in /usr/local/lib/python3.10/dist-packages (from requests->imdlib) (2024.2.2)\n",
            "Installing collected packages: imdlib\n",
            "Successfully installed imdlib-0.1.20\n"
          ]
        }
      ],
      "source": [
        "pip install imdlib"
      ]
    },
    {
      "cell_type": "code",
      "execution_count": null,
      "metadata": {
        "colab": {
          "base_uri": "https://localhost:8080/"
        },
        "id": "pZWdBwcvfhgn",
        "outputId": "65be8421-1a0e-415a-809d-3c5b1e7d076b"
      },
      "outputs": [
        {
          "name": "stdout",
          "output_type": "stream",
          "text": [
            "Downloading: rain for year 2000\n",
            "Downloading: rain for year 2001\n",
            "Downloading: rain for year 2002\n",
            "Downloading: rain for year 2003\n",
            "Downloading: rain for year 2004\n",
            "Downloading: rain for year 2005\n",
            "Downloading: rain for year 2006\n",
            "Downloading: rain for year 2007\n",
            "Downloading: rain for year 2008\n",
            "Downloading: rain for year 2009\n",
            "Downloading: rain for year 2010\n",
            "Downloading: rain for year 2011\n",
            "Downloading: rain for year 2012\n",
            "Downloading: rain for year 2013\n",
            "Downloading: rain for year 2014\n",
            "Downloading: rain for year 2015\n",
            "Downloading: rain for year 2016\n",
            "Downloading: rain for year 2017\n",
            "Downloading: rain for year 2018\n",
            "Downloading: rain for year 2019\n",
            "Downloading: rain for year 2020\n",
            "Download Successful !!!\n"
          ]
        }
      ],
      "source": [
        "import imdlib as imd\n",
        "\n",
        "path = \"/content/drive/MyDrive/Colab Notebooks\"\n",
        "\n",
        "start_yr = 2000\n",
        "end_yr = 2020\n",
        "variable = 'rain' # other options are ('tmin'/ 'tmax')\n",
        "\n",
        "imd.get_data(variable, start_yr, end_yr, fn_format='yearwise', file_dir=path)\n",
        "data = imd.open_data(variable, start_yr, end_yr,'yearwise', path)\n",
        "ds = data.get_xarray()\n",
        "print(ds)\n",
        "\n",
        "\n",
        "\n",
        "lat = 22.40 #lattitude of point\n",
        "lon = 81.45 #longitude of point\n",
        "data.to_csv('data.csv', lat, lon, path)"
      ]
    },
    {
      "cell_type": "code",
      "execution_count": null,
      "metadata": {
        "id": "k2WQwGqtfrIH"
      },
      "outputs": [],
      "source": []
    }
  ],
  "metadata": {
    "colab": {
      "provenance": [],
      "toc_visible": true
    },
    "kernelspec": {
      "display_name": "Python 3",
      "name": "python3"
    },
    "language_info": {
      "name": "python"
    }
  },
  "nbformat": 4,
  "nbformat_minor": 0
}
